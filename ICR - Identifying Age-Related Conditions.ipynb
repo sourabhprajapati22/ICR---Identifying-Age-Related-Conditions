{
 "cells": [
  {
   "cell_type": "code",
   "execution_count": 1,
   "metadata": {
    "_cell_guid": "b1076dfc-b9ad-4769-8c92-a6c4dae69d19",
    "_uuid": "8f2839f25d086af736a60e9eeb907d3b93b6e0e5",
    "execution": {
     "iopub.execute_input": "2023-11-28T11:27:52.276009Z",
     "iopub.status.busy": "2023-11-28T11:27:52.275654Z",
     "iopub.status.idle": "2023-11-28T11:27:53.863695Z",
     "shell.execute_reply": "2023-11-28T11:27:53.862438Z",
     "shell.execute_reply.started": "2023-11-28T11:27:52.275979Z"
    }
   },
   "outputs": [],
   "source": [
    "import warnings\n",
    "warnings.filterwarnings('ignore')\n",
    "import pandas as pd\n",
    "from sklearn.model_selection import train_test_split\n",
    "from lightgbm import LGBMClassifier\n",
    "from sklearn.pipeline import Pipeline\n",
    "from xgboost import XGBClassifier\n",
    "from catboost import CatBoostClassifier\n",
    "from sklearn.preprocessing import StandardScaler,MinMaxScaler\n",
    "import numpy as np\n",
    "import warnings\n",
    "\n",
    "# Ignore all warnings\n",
    "warnings.filterwarnings('ignore')\n",
    "\n",
    "greeks=pd.read_csv('/kaggle/input/icr-identify-age-related-conditions/greeks.csv')\n",
    "sample_sub=pd.read_csv('/kaggle/input/icr-identify-age-related-conditions/sample_submission.csv')\n",
    "test=pd.read_csv('/kaggle/input/icr-identify-age-related-conditions/test.csv')\n",
    "train=pd.read_csv('/kaggle/input/icr-identify-age-related-conditions/train.csv')"
   ]
  },
  {
   "cell_type": "code",
   "execution_count": 2,
   "metadata": {
    "execution": {
     "iopub.execute_input": "2023-11-28T11:27:57.310901Z",
     "iopub.status.busy": "2023-11-28T11:27:57.309458Z",
     "iopub.status.idle": "2023-11-28T11:27:57.620625Z",
     "shell.execute_reply": "2023-11-28T11:27:57.619131Z",
     "shell.execute_reply.started": "2023-11-28T11:27:57.310847Z"
    }
   },
   "outputs": [
    {
     "data": {
      "text/plain": [
       "<Axes: >"
      ]
     },
     "execution_count": 2,
     "metadata": {},
     "output_type": "execute_result"
    },
    {
     "data": {
      "image/png": "[encoded data removed]",
      "text/plain": [
       "<Figure size 640x480 with 1 Axes>"
      ]
     },
     "metadata": {},
     "output_type": "display_data"
    }
   ],
   "source": [
    "train_drop=train.dropna(axis=0)\n",
    "train_drop.Class.value_counts().plot(kind='bar')"
   ]
  },
  {
   "cell_type": "code",
   "execution_count": 3,
   "metadata": {
    "execution": {
     "iopub.execute_input": "2023-11-28T11:28:13.790386Z",
     "iopub.status.busy": "2023-11-28T11:28:13.789942Z",
     "iopub.status.idle": "2023-11-28T11:28:13.801464Z",
     "shell.execute_reply": "2023-11-28T11:28:13.800148Z",
     "shell.execute_reply.started": "2023-11-28T11:28:13.790355Z"
    }
   },
   "outputs": [
    {
     "data": {
      "text/plain": [
       "0    446\n",
       "1    102\n",
       "Name: Class, dtype: int64"
      ]
     },
     "execution_count": 3,
     "metadata": {},
     "output_type": "execute_result"
    }
   ],
   "source": [
    "train_drop.Class.value_counts()"
   ]
  },
  {
   "cell_type": "code",
   "execution_count": 4,
   "metadata": {
    "execution": {
     "iopub.execute_input": "2023-11-28T11:28:48.840706Z",
     "iopub.status.busy": "2023-11-28T11:28:48.840127Z",
     "iopub.status.idle": "2023-11-28T11:28:48.852194Z",
     "shell.execute_reply": "2023-11-28T11:28:48.850693Z",
     "shell.execute_reply.started": "2023-11-28T11:28:48.840658Z"
    }
   },
   "outputs": [
    {
     "data": {
      "text/plain": [
       "0    509\n",
       "1    108\n",
       "Name: Class, dtype: int64"
      ]
     },
     "execution_count": 4,
     "metadata": {},
     "output_type": "execute_result"
    }
   ],
   "source": [
    "train.Class.value_counts()"
   ]
  },
  {
   "cell_type": "code",
   "execution_count": 5,
   "metadata": {
    "execution": {
     "iopub.execute_input": "2023-11-28T11:29:10.487899Z",
     "iopub.status.busy": "2023-11-28T11:29:10.487444Z",
     "iopub.status.idle": "2023-11-28T11:29:10.500577Z",
     "shell.execute_reply": "2023-11-28T11:29:10.498974Z",
     "shell.execute_reply.started": "2023-11-28T11:29:10.487865Z"
    }
   },
   "outputs": [],
   "source": [
    "from sklearn.preprocessing import LabelEncoder\n",
    "pre=LabelEncoder()\n",
    "train_drop['EJ']=pre.fit_transform(train_drop['EJ'])\n",
    "zero=train_drop[train_drop.Class==0].reset_index(drop=True)\n",
    "one=train_drop[train_drop.Class==1].reset_index(drop=True)"
   ]
  },
  {
   "cell_type": "code",
   "execution_count": 6,
   "metadata": {
    "execution": {
     "iopub.execute_input": "2023-11-28T11:29:35.978342Z",
     "iopub.status.busy": "2023-11-28T11:29:35.977898Z",
     "iopub.status.idle": "2023-11-28T11:29:35.986351Z",
     "shell.execute_reply": "2023-11-28T11:29:35.984521Z",
     "shell.execute_reply.started": "2023-11-28T11:29:35.978308Z"
    }
   },
   "outputs": [],
   "source": [
    "test['EJ']=pre.transform(test['EJ'])"
   ]
  },
  {
   "cell_type": "markdown",
   "metadata": {},
   "source": [
    "# Simply make train and test using 5:1 to 1:1"
   ]
  },
  {
   "cell_type": "code",
   "execution_count": 7,
   "metadata": {
    "execution": {
     "iopub.execute_input": "2023-11-28T11:29:59.308035Z",
     "iopub.status.busy": "2023-11-28T11:29:59.307562Z",
     "iopub.status.idle": "2023-11-28T11:30:19.788412Z",
     "shell.execute_reply": "2023-11-28T11:30:19.786968Z",
     "shell.execute_reply.started": "2023-11-28T11:29:59.307999Z"
    }
   },
   "outputs": [
    {
     "name": "stdout",
     "output_type": "stream",
     "text": [
      "model_score: 0.9069767441860465\n",
      "test_result:\n",
      " [[0.34931113 0.65068887]\n",
      " [0.34931113 0.65068887]\n",
      " [0.34931113 0.65068887]\n",
      " [0.34931113 0.65068887]\n",
      " [0.34931113 0.65068887]]\n",
      "[1 1 1 1 1]\n",
      "model_score: 0.9302325581395349\n",
      "test_result:\n",
      " [[0.54169821 0.45830179]\n",
      " [0.54169821 0.45830179]\n",
      " [0.54169821 0.45830179]\n",
      " [0.54169821 0.45830179]\n",
      " [0.54169821 0.45830179]]\n",
      "[0 0 0 0 0]\n",
      "model_score: 0.9302325581395349\n",
      "test_result:\n",
      " [[0.56054583 0.43945417]\n",
      " [0.56054583 0.43945417]\n",
      " [0.56054583 0.43945417]\n",
      " [0.56054583 0.43945417]\n",
      " [0.56054583 0.43945417]]\n",
      "[0 0 0 0 0]\n",
      "model_score: 0.8837209302325582\n",
      "test_result:\n",
      " [[0.48946774 0.51053226]\n",
      " [0.48946774 0.51053226]\n",
      " [0.48946774 0.51053226]\n",
      " [0.48946774 0.51053226]\n",
      " [0.48946774 0.51053226]]\n",
      "[1 1 1 1 1]\n"
     ]
    }
   ],
   "source": [
    "pred=[]\n",
    "for i in range(4):\n",
    "    training=pd.concat([zero.iloc[111*i:111*(i+1)],one])\n",
    "    X,y=training.drop(['Id','Class'],axis=1),training.Class\n",
    "    X_train,X_test,y_train,y_test=train_test_split(X,y,train_size=0.8,random_state=42,stratify=y)\n",
    "    # model=LGBMClassifier(random_state=42)\n",
    "    model=Pipeline([('scale',StandardScaler()),\n",
    "#                     ('lgbm',LGBMClassifier(random_state=42)),\n",
    "#                     ('xgb',XGBClassifier(random_state=42)),\n",
    "                    ('cat',CatBoostClassifier(random_state=42,verbose=False))\n",
    "                   ])\n",
    "    model.fit(X_train,y_train)\n",
    "    print('model_score:',model.score(X_test,y_test))\n",
    "    print('test_result:\\n',model.predict_proba(test.drop(['Id'],axis=1)))\n",
    "    print(model.predict(test.drop('Id',axis=1)))\n",
    "    pred.append(model.predict_proba(test.drop(['Id'],axis=1)))"
   ]
  },
  {
   "cell_type": "code",
   "execution_count": 8,
   "metadata": {
    "execution": {
     "iopub.execute_input": "2023-11-28T11:30:44.798980Z",
     "iopub.status.busy": "2023-11-28T11:30:44.798464Z",
     "iopub.status.idle": "2023-11-28T11:30:44.823030Z",
     "shell.execute_reply": "2023-11-28T11:30:44.821704Z",
     "shell.execute_reply.started": "2023-11-28T11:30:44.798942Z"
    }
   },
   "outputs": [
    {
     "data": {
      "text/html": [
       "<div>\n",
       "<style scoped>\n",
       "    .dataframe tbody tr th:only-of-type {\n",
       "        vertical-align: middle;\n",
       "    }\n",
       "\n",
       "    .dataframe tbody tr th {\n",
       "        vertical-align: top;\n",
       "    }\n",
       "\n",
       "    .dataframe thead th {\n",
       "        text-align: right;\n",
       "    }\n",
       "</style>\n",
       "<table border=\"1\" class=\"dataframe\">\n",
       "  <thead>\n",
       "    <tr style=\"text-align: right;\">\n",
       "      <th></th>\n",
       "      <th>Id</th>\n",
       "      <th>class_0</th>\n",
       "      <th>class_1</th>\n",
       "    </tr>\n",
       "  </thead>\n",
       "  <tbody>\n",
       "    <tr>\n",
       "      <th>0</th>\n",
       "      <td>00eed32682bb</td>\n",
       "      <td>0.485256</td>\n",
       "      <td>0.514744</td>\n",
       "    </tr>\n",
       "    <tr>\n",
       "      <th>1</th>\n",
       "      <td>010ebe33f668</td>\n",
       "      <td>0.485256</td>\n",
       "      <td>0.514744</td>\n",
       "    </tr>\n",
       "    <tr>\n",
       "      <th>2</th>\n",
       "      <td>02fa521e1838</td>\n",
       "      <td>0.485256</td>\n",
       "      <td>0.514744</td>\n",
       "    </tr>\n",
       "    <tr>\n",
       "      <th>3</th>\n",
       "      <td>040e15f562a2</td>\n",
       "      <td>0.485256</td>\n",
       "      <td>0.514744</td>\n",
       "    </tr>\n",
       "    <tr>\n",
       "      <th>4</th>\n",
       "      <td>046e85c7cc7f</td>\n",
       "      <td>0.485256</td>\n",
       "      <td>0.514744</td>\n",
       "    </tr>\n",
       "  </tbody>\n",
       "</table>\n",
       "</div>"
      ],
      "text/plain": [
       "             Id   class_0   class_1\n",
       "0  00eed32682bb  0.485256  0.514744\n",
       "1  010ebe33f668  0.485256  0.514744\n",
       "2  02fa521e1838  0.485256  0.514744\n",
       "3  040e15f562a2  0.485256  0.514744\n",
       "4  046e85c7cc7f  0.485256  0.514744"
      ]
     },
     "execution_count": 8,
     "metadata": {},
     "output_type": "execute_result"
    }
   ],
   "source": [
    "pred=np.array(pred)\n",
    "pred=pred.sum(axis=0)/4\n",
    "sub=test.iloc[:,:1]\n",
    "sub['class_0']=pred[:,0]\n",
    "sub['class_1']=pred[:,1]\n",
    "sub"
   ]
  },
  {
   "cell_type": "code",
   "execution_count": null,
   "metadata": {},
   "outputs": [],
   "source": [
    "sub.to_csv(\"/kaggle/working/submission.csv\",index=False)"
   ]
  },
  {
   "cell_type": "code",
   "execution_count": null,
   "metadata": {},
   "outputs": [],
   "source": []
  }
 ],
 "metadata": {
  "kaggle": {
   "accelerator": "none",
   "dataSources": [
    {
     "databundleVersionId": 5687476,
     "sourceId": 52784,
     "sourceType": "competition"
    }
   ],
   "dockerImageVersionId": 30527,
   "isGpuEnabled": false,
   "isInternetEnabled": false,
   "language": "python",
   "sourceType": "notebook"
  },
  "kernelspec": {
   "display_name": "Python 3 (ipykernel)",
   "language": "python",
   "name": "python3"
  },
  "language_info": {
   "codemirror_mode": {
    "name": "ipython",
    "version": 3
   },
   "file_extension": ".py",
   "mimetype": "text/x-python",
   "name": "python",
   "nbconvert_exporter": "python",
   "pygments_lexer": "ipython3",
   "version": "3.9.12"
  }
 },
 "nbformat": 4,
 "nbformat_minor": 4
}
